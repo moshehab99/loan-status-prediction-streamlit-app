{
 "cells": [
  {
   "cell_type": "markdown",
   "id": "9b33bf11",
   "metadata": {
    "papermill": {
     "duration": 0.01086,
     "end_time": "2025-04-26T12:26:48.889284",
     "exception": false,
     "start_time": "2025-04-26T12:26:48.878424",
     "status": "completed"
    },
    "tags": []
   },
   "source": [
    "# *Import libararies*"
   ]
  },
  {
   "cell_type": "code",
   "execution_count": 1,
   "id": "dd582910",
   "metadata": {
    "execution": {
     "iopub.execute_input": "2025-04-26T12:26:48.909724Z",
     "iopub.status.busy": "2025-04-26T12:26:48.909406Z",
     "iopub.status.idle": "2025-04-26T12:26:53.903779Z",
     "shell.execute_reply": "2025-04-26T12:26:53.902871Z"
    },
    "papermill": {
     "duration": 5.006339,
     "end_time": "2025-04-26T12:26:53.905509",
     "exception": false,
     "start_time": "2025-04-26T12:26:48.899170",
     "status": "completed"
    },
    "tags": []
   },
   "outputs": [],
   "source": [
    "import pandas as pd\n",
    "import numpy as np\n",
    "import matplotlib.pyplot as plt\n",
    "import seaborn as sns\n",
    "from sklearn.model_selection import train_test_split\n",
    "from sklearn.model_selection import GridSearchCV\n",
    "from sklearn.linear_model import LogisticRegression\n",
    "from sklearn.tree import DecisionTreeClassifier\n",
    "from sklearn.neighbors import KNeighborsClassifier\n",
    "from sklearn.ensemble import RandomForestClassifier,GradientBoostingClassifier,BaggingClassifier\n",
    "from xgboost import XGBClassifier\n",
    "from sklearn.metrics import accuracy_score,confusion_matrix,classification_report\n",
    "import pickle"
   ]
  },
  {
   "cell_type": "markdown",
   "id": "8d3400c9",
   "metadata": {
    "papermill": {
     "duration": 0.009215,
     "end_time": "2025-04-26T12:26:53.924530",
     "exception": false,
     "start_time": "2025-04-26T12:26:53.915315",
     "status": "completed"
    },
    "tags": []
   },
   "source": [
    "# *Load the dataset & Display basic information*"
   ]
  },
  {
   "cell_type": "code",
   "execution_count": 2,
   "id": "5c7fcebb",
   "metadata": {
    "execution": {
     "iopub.execute_input": "2025-04-26T12:26:53.944309Z",
     "iopub.status.busy": "2025-04-26T12:26:53.943760Z",
     "iopub.status.idle": "2025-04-26T12:26:53.975074Z",
     "shell.execute_reply": "2025-04-26T12:26:53.974073Z"
    },
    "papermill": {
     "duration": 0.043167,
     "end_time": "2025-04-26T12:26:53.976799",
     "exception": false,
     "start_time": "2025-04-26T12:26:53.933632",
     "status": "completed"
    },
    "tags": []
   },
   "outputs": [],
   "source": [
    "df=pd.read_csv(r\"H:\\ML_Course_Creativa\\ML_Project\\dataset\\loan_data.csv\")"
   ]
  },
  {
   "cell_type": "code",
   "execution_count": 3,
   "id": "cc7b5674",
   "metadata": {
    "execution": {
     "iopub.execute_input": "2025-04-26T12:26:53.997447Z",
     "iopub.status.busy": "2025-04-26T12:26:53.996707Z",
     "iopub.status.idle": "2025-04-26T12:26:54.028286Z",
     "shell.execute_reply": "2025-04-26T12:26:54.027201Z"
    },
    "papermill": {
     "duration": 0.043807,
     "end_time": "2025-04-26T12:26:54.030009",
     "exception": false,
     "start_time": "2025-04-26T12:26:53.986202",
     "status": "completed"
    },
    "tags": []
   },
   "outputs": [
    {
     "data": {
      "text/html": [
       "<div>\n",
       "<style scoped>\n",
       "    .dataframe tbody tr th:only-of-type {\n",
       "        vertical-align: middle;\n",
       "    }\n",
       "\n",
       "    .dataframe tbody tr th {\n",
       "        vertical-align: top;\n",
       "    }\n",
       "\n",
       "    .dataframe thead th {\n",
       "        text-align: right;\n",
       "    }\n",
       "</style>\n",
       "<table border=\"1\" class=\"dataframe\">\n",
       "  <thead>\n",
       "    <tr style=\"text-align: right;\">\n",
       "      <th></th>\n",
       "      <th>Loan_ID</th>\n",
       "      <th>Gender</th>\n",
       "      <th>Married</th>\n",
       "      <th>Dependents</th>\n",
       "      <th>Education</th>\n",
       "      <th>Self_Employed</th>\n",
       "      <th>ApplicantIncome</th>\n",
       "      <th>CoapplicantIncome</th>\n",
       "      <th>LoanAmount</th>\n",
       "      <th>Loan_Amount_Term</th>\n",
       "      <th>Credit_History</th>\n",
       "      <th>Property_Area</th>\n",
       "      <th>Loan_Status</th>\n",
       "    </tr>\n",
       "  </thead>\n",
       "  <tbody>\n",
       "    <tr>\n",
       "      <th>0</th>\n",
       "      <td>LP001003</td>\n",
       "      <td>Male</td>\n",
       "      <td>Yes</td>\n",
       "      <td>1</td>\n",
       "      <td>Graduate</td>\n",
       "      <td>No</td>\n",
       "      <td>4583</td>\n",
       "      <td>1508.0</td>\n",
       "      <td>128.0</td>\n",
       "      <td>360.0</td>\n",
       "      <td>1.0</td>\n",
       "      <td>Rural</td>\n",
       "      <td>N</td>\n",
       "    </tr>\n",
       "    <tr>\n",
       "      <th>1</th>\n",
       "      <td>LP001005</td>\n",
       "      <td>Male</td>\n",
       "      <td>Yes</td>\n",
       "      <td>0</td>\n",
       "      <td>Graduate</td>\n",
       "      <td>Yes</td>\n",
       "      <td>3000</td>\n",
       "      <td>0.0</td>\n",
       "      <td>66.0</td>\n",
       "      <td>360.0</td>\n",
       "      <td>1.0</td>\n",
       "      <td>Urban</td>\n",
       "      <td>Y</td>\n",
       "    </tr>\n",
       "    <tr>\n",
       "      <th>2</th>\n",
       "      <td>LP001006</td>\n",
       "      <td>Male</td>\n",
       "      <td>Yes</td>\n",
       "      <td>0</td>\n",
       "      <td>Not Graduate</td>\n",
       "      <td>No</td>\n",
       "      <td>2583</td>\n",
       "      <td>2358.0</td>\n",
       "      <td>120.0</td>\n",
       "      <td>360.0</td>\n",
       "      <td>1.0</td>\n",
       "      <td>Urban</td>\n",
       "      <td>Y</td>\n",
       "    </tr>\n",
       "    <tr>\n",
       "      <th>3</th>\n",
       "      <td>LP001008</td>\n",
       "      <td>Male</td>\n",
       "      <td>No</td>\n",
       "      <td>0</td>\n",
       "      <td>Graduate</td>\n",
       "      <td>No</td>\n",
       "      <td>6000</td>\n",
       "      <td>0.0</td>\n",
       "      <td>141.0</td>\n",
       "      <td>360.0</td>\n",
       "      <td>1.0</td>\n",
       "      <td>Urban</td>\n",
       "      <td>Y</td>\n",
       "    </tr>\n",
       "    <tr>\n",
       "      <th>4</th>\n",
       "      <td>LP001013</td>\n",
       "      <td>Male</td>\n",
       "      <td>Yes</td>\n",
       "      <td>0</td>\n",
       "      <td>Not Graduate</td>\n",
       "      <td>No</td>\n",
       "      <td>2333</td>\n",
       "      <td>1516.0</td>\n",
       "      <td>95.0</td>\n",
       "      <td>360.0</td>\n",
       "      <td>1.0</td>\n",
       "      <td>Urban</td>\n",
       "      <td>Y</td>\n",
       "    </tr>\n",
       "  </tbody>\n",
       "</table>\n",
       "</div>"
      ],
      "text/plain": [
       "    Loan_ID Gender Married Dependents     Education Self_Employed  \\\n",
       "0  LP001003   Male     Yes          1      Graduate            No   \n",
       "1  LP001005   Male     Yes          0      Graduate           Yes   \n",
       "2  LP001006   Male     Yes          0  Not Graduate            No   \n",
       "3  LP001008   Male      No          0      Graduate            No   \n",
       "4  LP001013   Male     Yes          0  Not Graduate            No   \n",
       "\n",
       "   ApplicantIncome  CoapplicantIncome  LoanAmount  Loan_Amount_Term  \\\n",
       "0             4583             1508.0       128.0             360.0   \n",
       "1             3000                0.0        66.0             360.0   \n",
       "2             2583             2358.0       120.0             360.0   \n",
       "3             6000                0.0       141.0             360.0   \n",
       "4             2333             1516.0        95.0             360.0   \n",
       "\n",
       "   Credit_History Property_Area Loan_Status  \n",
       "0             1.0         Rural           N  \n",
       "1             1.0         Urban           Y  \n",
       "2             1.0         Urban           Y  \n",
       "3             1.0         Urban           Y  \n",
       "4             1.0         Urban           Y  "
      ]
     },
     "execution_count": 3,
     "metadata": {},
     "output_type": "execute_result"
    }
   ],
   "source": [
    "df.head()"
   ]
  },
  {
   "cell_type": "code",
   "execution_count": 4,
   "id": "33718bef",
   "metadata": {
    "execution": {
     "iopub.execute_input": "2025-04-26T12:26:54.051642Z",
     "iopub.status.busy": "2025-04-26T12:26:54.051309Z",
     "iopub.status.idle": "2025-04-26T12:26:54.067045Z",
     "shell.execute_reply": "2025-04-26T12:26:54.066061Z"
    },
    "papermill": {
     "duration": 0.028092,
     "end_time": "2025-04-26T12:26:54.068806",
     "exception": false,
     "start_time": "2025-04-26T12:26:54.040714",
     "status": "completed"
    },
    "tags": []
   },
   "outputs": [
    {
     "data": {
      "text/html": [
       "<div>\n",
       "<style scoped>\n",
       "    .dataframe tbody tr th:only-of-type {\n",
       "        vertical-align: middle;\n",
       "    }\n",
       "\n",
       "    .dataframe tbody tr th {\n",
       "        vertical-align: top;\n",
       "    }\n",
       "\n",
       "    .dataframe thead th {\n",
       "        text-align: right;\n",
       "    }\n",
       "</style>\n",
       "<table border=\"1\" class=\"dataframe\">\n",
       "  <thead>\n",
       "    <tr style=\"text-align: right;\">\n",
       "      <th></th>\n",
       "      <th>Loan_ID</th>\n",
       "      <th>Gender</th>\n",
       "      <th>Married</th>\n",
       "      <th>Dependents</th>\n",
       "      <th>Education</th>\n",
       "      <th>Self_Employed</th>\n",
       "      <th>ApplicantIncome</th>\n",
       "      <th>CoapplicantIncome</th>\n",
       "      <th>LoanAmount</th>\n",
       "      <th>Loan_Amount_Term</th>\n",
       "      <th>Credit_History</th>\n",
       "      <th>Property_Area</th>\n",
       "      <th>Loan_Status</th>\n",
       "    </tr>\n",
       "  </thead>\n",
       "  <tbody>\n",
       "    <tr>\n",
       "      <th>376</th>\n",
       "      <td>LP002953</td>\n",
       "      <td>Male</td>\n",
       "      <td>Yes</td>\n",
       "      <td>3+</td>\n",
       "      <td>Graduate</td>\n",
       "      <td>No</td>\n",
       "      <td>5703</td>\n",
       "      <td>0.0</td>\n",
       "      <td>128.0</td>\n",
       "      <td>360.0</td>\n",
       "      <td>1.0</td>\n",
       "      <td>Urban</td>\n",
       "      <td>Y</td>\n",
       "    </tr>\n",
       "    <tr>\n",
       "      <th>377</th>\n",
       "      <td>LP002974</td>\n",
       "      <td>Male</td>\n",
       "      <td>Yes</td>\n",
       "      <td>0</td>\n",
       "      <td>Graduate</td>\n",
       "      <td>No</td>\n",
       "      <td>3232</td>\n",
       "      <td>1950.0</td>\n",
       "      <td>108.0</td>\n",
       "      <td>360.0</td>\n",
       "      <td>1.0</td>\n",
       "      <td>Rural</td>\n",
       "      <td>Y</td>\n",
       "    </tr>\n",
       "    <tr>\n",
       "      <th>378</th>\n",
       "      <td>LP002978</td>\n",
       "      <td>Female</td>\n",
       "      <td>No</td>\n",
       "      <td>0</td>\n",
       "      <td>Graduate</td>\n",
       "      <td>No</td>\n",
       "      <td>2900</td>\n",
       "      <td>0.0</td>\n",
       "      <td>71.0</td>\n",
       "      <td>360.0</td>\n",
       "      <td>1.0</td>\n",
       "      <td>Rural</td>\n",
       "      <td>Y</td>\n",
       "    </tr>\n",
       "    <tr>\n",
       "      <th>379</th>\n",
       "      <td>LP002979</td>\n",
       "      <td>Male</td>\n",
       "      <td>Yes</td>\n",
       "      <td>3+</td>\n",
       "      <td>Graduate</td>\n",
       "      <td>No</td>\n",
       "      <td>4106</td>\n",
       "      <td>0.0</td>\n",
       "      <td>40.0</td>\n",
       "      <td>180.0</td>\n",
       "      <td>1.0</td>\n",
       "      <td>Rural</td>\n",
       "      <td>Y</td>\n",
       "    </tr>\n",
       "    <tr>\n",
       "      <th>380</th>\n",
       "      <td>LP002990</td>\n",
       "      <td>Female</td>\n",
       "      <td>No</td>\n",
       "      <td>0</td>\n",
       "      <td>Graduate</td>\n",
       "      <td>Yes</td>\n",
       "      <td>4583</td>\n",
       "      <td>0.0</td>\n",
       "      <td>133.0</td>\n",
       "      <td>360.0</td>\n",
       "      <td>0.0</td>\n",
       "      <td>Semiurban</td>\n",
       "      <td>N</td>\n",
       "    </tr>\n",
       "  </tbody>\n",
       "</table>\n",
       "</div>"
      ],
      "text/plain": [
       "      Loan_ID  Gender Married Dependents Education Self_Employed  \\\n",
       "376  LP002953    Male     Yes         3+  Graduate            No   \n",
       "377  LP002974    Male     Yes          0  Graduate            No   \n",
       "378  LP002978  Female      No          0  Graduate            No   \n",
       "379  LP002979    Male     Yes         3+  Graduate            No   \n",
       "380  LP002990  Female      No          0  Graduate           Yes   \n",
       "\n",
       "     ApplicantIncome  CoapplicantIncome  LoanAmount  Loan_Amount_Term  \\\n",
       "376             5703                0.0       128.0             360.0   \n",
       "377             3232             1950.0       108.0             360.0   \n",
       "378             2900                0.0        71.0             360.0   \n",
       "379             4106                0.0        40.0             180.0   \n",
       "380             4583                0.0       133.0             360.0   \n",
       "\n",
       "     Credit_History Property_Area Loan_Status  \n",
       "376             1.0         Urban           Y  \n",
       "377             1.0         Rural           Y  \n",
       "378             1.0         Rural           Y  \n",
       "379             1.0         Rural           Y  \n",
       "380             0.0     Semiurban           N  "
      ]
     },
     "execution_count": 4,
     "metadata": {},
     "output_type": "execute_result"
    }
   ],
   "source": [
    "df.tail()"
   ]
  },
  {
   "cell_type": "code",
   "execution_count": 5,
   "id": "836f88e3",
   "metadata": {
    "execution": {
     "iopub.execute_input": "2025-04-26T12:26:54.089728Z",
     "iopub.status.busy": "2025-04-26T12:26:54.089411Z",
     "iopub.status.idle": "2025-04-26T12:26:54.094922Z",
     "shell.execute_reply": "2025-04-26T12:26:54.093909Z"
    },
    "papermill": {
     "duration": 0.017583,
     "end_time": "2025-04-26T12:26:54.096299",
     "exception": false,
     "start_time": "2025-04-26T12:26:54.078716",
     "status": "completed"
    },
    "tags": []
   },
   "outputs": [
    {
     "name": "stdout",
     "output_type": "stream",
     "text": [
      " Num of rows : 381 \n",
      " Num of columns : 13\n"
     ]
    }
   ],
   "source": [
    "print(' Num of rows :',df.shape[0],'\\n','Num of columns :',df.shape[1])"
   ]
  },
  {
   "cell_type": "code",
   "execution_count": 6,
   "id": "0c9285d7",
   "metadata": {
    "execution": {
     "iopub.execute_input": "2025-04-26T12:26:54.117058Z",
     "iopub.status.busy": "2025-04-26T12:26:54.116647Z",
     "iopub.status.idle": "2025-04-26T12:26:54.141658Z",
     "shell.execute_reply": "2025-04-26T12:26:54.140661Z"
    },
    "papermill": {
     "duration": 0.037234,
     "end_time": "2025-04-26T12:26:54.143352",
     "exception": false,
     "start_time": "2025-04-26T12:26:54.106118",
     "status": "completed"
    },
    "tags": []
   },
   "outputs": [
    {
     "data": {
      "text/html": [
       "<div>\n",
       "<style scoped>\n",
       "    .dataframe tbody tr th:only-of-type {\n",
       "        vertical-align: middle;\n",
       "    }\n",
       "\n",
       "    .dataframe tbody tr th {\n",
       "        vertical-align: top;\n",
       "    }\n",
       "\n",
       "    .dataframe thead th {\n",
       "        text-align: right;\n",
       "    }\n",
       "</style>\n",
       "<table border=\"1\" class=\"dataframe\">\n",
       "  <thead>\n",
       "    <tr style=\"text-align: right;\">\n",
       "      <th></th>\n",
       "      <th>ApplicantIncome</th>\n",
       "      <th>CoapplicantIncome</th>\n",
       "      <th>LoanAmount</th>\n",
       "      <th>Loan_Amount_Term</th>\n",
       "      <th>Credit_History</th>\n",
       "    </tr>\n",
       "  </thead>\n",
       "  <tbody>\n",
       "    <tr>\n",
       "      <th>count</th>\n",
       "      <td>381.000000</td>\n",
       "      <td>381.000000</td>\n",
       "      <td>381.000000</td>\n",
       "      <td>370.000000</td>\n",
       "      <td>351.000000</td>\n",
       "    </tr>\n",
       "    <tr>\n",
       "      <th>mean</th>\n",
       "      <td>3579.845144</td>\n",
       "      <td>1277.275381</td>\n",
       "      <td>104.986877</td>\n",
       "      <td>340.864865</td>\n",
       "      <td>0.837607</td>\n",
       "    </tr>\n",
       "    <tr>\n",
       "      <th>std</th>\n",
       "      <td>1419.813818</td>\n",
       "      <td>2340.818114</td>\n",
       "      <td>28.358464</td>\n",
       "      <td>68.549257</td>\n",
       "      <td>0.369338</td>\n",
       "    </tr>\n",
       "    <tr>\n",
       "      <th>min</th>\n",
       "      <td>150.000000</td>\n",
       "      <td>0.000000</td>\n",
       "      <td>9.000000</td>\n",
       "      <td>12.000000</td>\n",
       "      <td>0.000000</td>\n",
       "    </tr>\n",
       "    <tr>\n",
       "      <th>25%</th>\n",
       "      <td>2600.000000</td>\n",
       "      <td>0.000000</td>\n",
       "      <td>90.000000</td>\n",
       "      <td>360.000000</td>\n",
       "      <td>1.000000</td>\n",
       "    </tr>\n",
       "    <tr>\n",
       "      <th>50%</th>\n",
       "      <td>3333.000000</td>\n",
       "      <td>983.000000</td>\n",
       "      <td>110.000000</td>\n",
       "      <td>360.000000</td>\n",
       "      <td>1.000000</td>\n",
       "    </tr>\n",
       "    <tr>\n",
       "      <th>75%</th>\n",
       "      <td>4288.000000</td>\n",
       "      <td>2016.000000</td>\n",
       "      <td>127.000000</td>\n",
       "      <td>360.000000</td>\n",
       "      <td>1.000000</td>\n",
       "    </tr>\n",
       "    <tr>\n",
       "      <th>max</th>\n",
       "      <td>9703.000000</td>\n",
       "      <td>33837.000000</td>\n",
       "      <td>150.000000</td>\n",
       "      <td>480.000000</td>\n",
       "      <td>1.000000</td>\n",
       "    </tr>\n",
       "  </tbody>\n",
       "</table>\n",
       "</div>"
      ],
      "text/plain": [
       "       ApplicantIncome  CoapplicantIncome  LoanAmount  Loan_Amount_Term  \\\n",
       "count       381.000000         381.000000  381.000000        370.000000   \n",
       "mean       3579.845144        1277.275381  104.986877        340.864865   \n",
       "std        1419.813818        2340.818114   28.358464         68.549257   \n",
       "min         150.000000           0.000000    9.000000         12.000000   \n",
       "25%        2600.000000           0.000000   90.000000        360.000000   \n",
       "50%        3333.000000         983.000000  110.000000        360.000000   \n",
       "75%        4288.000000        2016.000000  127.000000        360.000000   \n",
       "max        9703.000000       33837.000000  150.000000        480.000000   \n",
       "\n",
       "       Credit_History  \n",
       "count      351.000000  \n",
       "mean         0.837607  \n",
       "std          0.369338  \n",
       "min          0.000000  \n",
       "25%          1.000000  \n",
       "50%          1.000000  \n",
       "75%          1.000000  \n",
       "max          1.000000  "
      ]
     },
     "execution_count": 6,
     "metadata": {},
     "output_type": "execute_result"
    }
   ],
   "source": [
    "df.describe()"
   ]
  },
  {
   "cell_type": "code",
   "execution_count": 7,
   "id": "ac9f51d0",
   "metadata": {
    "execution": {
     "iopub.execute_input": "2025-04-26T12:26:54.164532Z",
     "iopub.status.busy": "2025-04-26T12:26:54.164180Z",
     "iopub.status.idle": "2025-04-26T12:26:54.189103Z",
     "shell.execute_reply": "2025-04-26T12:26:54.188221Z"
    },
    "papermill": {
     "duration": 0.037135,
     "end_time": "2025-04-26T12:26:54.190610",
     "exception": false,
     "start_time": "2025-04-26T12:26:54.153475",
     "status": "completed"
    },
    "tags": []
   },
   "outputs": [
    {
     "data": {
      "text/html": [
       "<div>\n",
       "<style scoped>\n",
       "    .dataframe tbody tr th:only-of-type {\n",
       "        vertical-align: middle;\n",
       "    }\n",
       "\n",
       "    .dataframe tbody tr th {\n",
       "        vertical-align: top;\n",
       "    }\n",
       "\n",
       "    .dataframe thead th {\n",
       "        text-align: right;\n",
       "    }\n",
       "</style>\n",
       "<table border=\"1\" class=\"dataframe\">\n",
       "  <thead>\n",
       "    <tr style=\"text-align: right;\">\n",
       "      <th></th>\n",
       "      <th>Loan_ID</th>\n",
       "      <th>Gender</th>\n",
       "      <th>Married</th>\n",
       "      <th>Dependents</th>\n",
       "      <th>Education</th>\n",
       "      <th>Self_Employed</th>\n",
       "      <th>Property_Area</th>\n",
       "      <th>Loan_Status</th>\n",
       "    </tr>\n",
       "  </thead>\n",
       "  <tbody>\n",
       "    <tr>\n",
       "      <th>count</th>\n",
       "      <td>381</td>\n",
       "      <td>376</td>\n",
       "      <td>381</td>\n",
       "      <td>373</td>\n",
       "      <td>381</td>\n",
       "      <td>360</td>\n",
       "      <td>381</td>\n",
       "      <td>381</td>\n",
       "    </tr>\n",
       "    <tr>\n",
       "      <th>unique</th>\n",
       "      <td>381</td>\n",
       "      <td>2</td>\n",
       "      <td>2</td>\n",
       "      <td>4</td>\n",
       "      <td>2</td>\n",
       "      <td>2</td>\n",
       "      <td>3</td>\n",
       "      <td>2</td>\n",
       "    </tr>\n",
       "    <tr>\n",
       "      <th>top</th>\n",
       "      <td>LP001003</td>\n",
       "      <td>Male</td>\n",
       "      <td>Yes</td>\n",
       "      <td>0</td>\n",
       "      <td>Graduate</td>\n",
       "      <td>No</td>\n",
       "      <td>Semiurban</td>\n",
       "      <td>Y</td>\n",
       "    </tr>\n",
       "    <tr>\n",
       "      <th>freq</th>\n",
       "      <td>1</td>\n",
       "      <td>291</td>\n",
       "      <td>228</td>\n",
       "      <td>234</td>\n",
       "      <td>278</td>\n",
       "      <td>325</td>\n",
       "      <td>149</td>\n",
       "      <td>271</td>\n",
       "    </tr>\n",
       "  </tbody>\n",
       "</table>\n",
       "</div>"
      ],
      "text/plain": [
       "         Loan_ID Gender Married Dependents Education Self_Employed  \\\n",
       "count        381    376     381        373       381           360   \n",
       "unique       381      2       2          4         2             2   \n",
       "top     LP001003   Male     Yes          0  Graduate            No   \n",
       "freq           1    291     228        234       278           325   \n",
       "\n",
       "       Property_Area Loan_Status  \n",
       "count            381         381  \n",
       "unique             3           2  \n",
       "top        Semiurban           Y  \n",
       "freq             149         271  "
      ]
     },
     "execution_count": 7,
     "metadata": {},
     "output_type": "execute_result"
    }
   ],
   "source": [
    "df.describe(include='object')"
   ]
  },
  {
   "cell_type": "code",
   "execution_count": 8,
   "id": "814a7a24",
   "metadata": {
    "execution": {
     "iopub.execute_input": "2025-04-26T12:26:54.212751Z",
     "iopub.status.busy": "2025-04-26T12:26:54.212057Z",
     "iopub.status.idle": "2025-04-26T12:26:54.229551Z",
     "shell.execute_reply": "2025-04-26T12:26:54.228592Z"
    },
    "papermill": {
     "duration": 0.030956,
     "end_time": "2025-04-26T12:26:54.231646",
     "exception": false,
     "start_time": "2025-04-26T12:26:54.200690",
     "status": "completed"
    },
    "tags": []
   },
   "outputs": [
    {
     "name": "stdout",
     "output_type": "stream",
     "text": [
      "<class 'pandas.core.frame.DataFrame'>\n",
      "RangeIndex: 381 entries, 0 to 380\n",
      "Data columns (total 13 columns):\n",
      " #   Column             Non-Null Count  Dtype  \n",
      "---  ------             --------------  -----  \n",
      " 0   Loan_ID            381 non-null    object \n",
      " 1   Gender             376 non-null    object \n",
      " 2   Married            381 non-null    object \n",
      " 3   Dependents         373 non-null    object \n",
      " 4   Education          381 non-null    object \n",
      " 5   Self_Employed      360 non-null    object \n",
      " 6   ApplicantIncome    381 non-null    int64  \n",
      " 7   CoapplicantIncome  381 non-null    float64\n",
      " 8   LoanAmount         381 non-null    float64\n",
      " 9   Loan_Amount_Term   370 non-null    float64\n",
      " 10  Credit_History     351 non-null    float64\n",
      " 11  Property_Area      381 non-null    object \n",
      " 12  Loan_Status        381 non-null    object \n",
      "dtypes: float64(4), int64(1), object(8)\n",
      "memory usage: 38.8+ KB\n"
     ]
    }
   ],
   "source": [
    "df.info()"
   ]
  },
  {
   "cell_type": "markdown",
   "id": "fa0f3b01",
   "metadata": {
    "papermill": {
     "duration": 0.010007,
     "end_time": "2025-04-26T12:26:54.252676",
     "exception": false,
     "start_time": "2025-04-26T12:26:54.242669",
     "status": "completed"
    },
    "tags": []
   },
   "source": [
    "# *Handel missing data and duplicates*"
   ]
  },
  {
   "cell_type": "code",
   "execution_count": 9,
   "id": "6c04958e",
   "metadata": {
    "execution": {
     "iopub.execute_input": "2025-04-26T12:26:54.274550Z",
     "iopub.status.busy": "2025-04-26T12:26:54.274203Z",
     "iopub.status.idle": "2025-04-26T12:26:54.282413Z",
     "shell.execute_reply": "2025-04-26T12:26:54.281635Z"
    },
    "papermill": {
     "duration": 0.021166,
     "end_time": "2025-04-26T12:26:54.283798",
     "exception": false,
     "start_time": "2025-04-26T12:26:54.262632",
     "status": "completed"
    },
    "tags": []
   },
   "outputs": [
    {
     "data": {
      "text/plain": [
       "0"
      ]
     },
     "execution_count": 9,
     "metadata": {},
     "output_type": "execute_result"
    }
   ],
   "source": [
    "df.duplicated().sum()"
   ]
  },
  {
   "cell_type": "code",
   "execution_count": 10,
   "id": "ce4082f0",
   "metadata": {
    "execution": {
     "iopub.execute_input": "2025-04-26T12:26:54.305513Z",
     "iopub.status.busy": "2025-04-26T12:26:54.305203Z",
     "iopub.status.idle": "2025-04-26T12:26:54.312625Z",
     "shell.execute_reply": "2025-04-26T12:26:54.311770Z"
    },
    "papermill": {
     "duration": 0.019896,
     "end_time": "2025-04-26T12:26:54.314098",
     "exception": false,
     "start_time": "2025-04-26T12:26:54.294202",
     "status": "completed"
    },
    "tags": []
   },
   "outputs": [
    {
     "data": {
      "text/plain": [
       "Loan_ID               0\n",
       "Gender                5\n",
       "Married               0\n",
       "Dependents            8\n",
       "Education             0\n",
       "Self_Employed        21\n",
       "ApplicantIncome       0\n",
       "CoapplicantIncome     0\n",
       "LoanAmount            0\n",
       "Loan_Amount_Term     11\n",
       "Credit_History       30\n",
       "Property_Area         0\n",
       "Loan_Status           0\n",
       "dtype: int64"
      ]
     },
     "execution_count": 10,
     "metadata": {},
     "output_type": "execute_result"
    }
   ],
   "source": [
    "df.isnull().sum()"
   ]
  },
  {
   "cell_type": "code",
   "execution_count": 11,
   "id": "2479712f",
   "metadata": {
    "execution": {
     "iopub.execute_input": "2025-04-26T12:26:54.336917Z",
     "iopub.status.busy": "2025-04-26T12:26:54.336054Z",
     "iopub.status.idle": "2025-04-26T12:26:54.341956Z",
     "shell.execute_reply": "2025-04-26T12:26:54.341079Z"
    },
    "papermill": {
     "duration": 0.018912,
     "end_time": "2025-04-26T12:26:54.343600",
     "exception": false,
     "start_time": "2025-04-26T12:26:54.324688",
     "status": "completed"
    },
    "tags": []
   },
   "outputs": [],
   "source": [
    "numerical_missing_data=['Loan_Amount_Term','Credit_History']\n",
    "for col in numerical_missing_data:\n",
    "    df[col]=df[col].fillna(df[col].mean())"
   ]
  },
  {
   "cell_type": "code",
   "execution_count": 12,
   "id": "514b7f16",
   "metadata": {
    "execution": {
     "iopub.execute_input": "2025-04-26T12:26:54.365996Z",
     "iopub.status.busy": "2025-04-26T12:26:54.365638Z",
     "iopub.status.idle": "2025-04-26T12:26:54.373099Z",
     "shell.execute_reply": "2025-04-26T12:26:54.372349Z"
    },
    "papermill": {
     "duration": 0.020535,
     "end_time": "2025-04-26T12:26:54.374728",
     "exception": false,
     "start_time": "2025-04-26T12:26:54.354193",
     "status": "completed"
    },
    "tags": []
   },
   "outputs": [],
   "source": [
    "textual_missing_data=['Gender','Dependents','Self_Employed']\n",
    "for col in textual_missing_data:\n",
    "    df[col]=df[col].fillna(df[col].mode()[0])"
   ]
  },
  {
   "cell_type": "code",
   "execution_count": 13,
   "id": "fd62373d",
   "metadata": {
    "execution": {
     "iopub.execute_input": "2025-04-26T12:26:54.397249Z",
     "iopub.status.busy": "2025-04-26T12:26:54.396948Z",
     "iopub.status.idle": "2025-04-26T12:26:54.405172Z",
     "shell.execute_reply": "2025-04-26T12:26:54.404227Z"
    },
    "papermill": {
     "duration": 0.021171,
     "end_time": "2025-04-26T12:26:54.406635",
     "exception": false,
     "start_time": "2025-04-26T12:26:54.385464",
     "status": "completed"
    },
    "tags": []
   },
   "outputs": [
    {
     "data": {
      "text/plain": [
       "Loan_ID              0\n",
       "Gender               0\n",
       "Married              0\n",
       "Dependents           0\n",
       "Education            0\n",
       "Self_Employed        0\n",
       "ApplicantIncome      0\n",
       "CoapplicantIncome    0\n",
       "LoanAmount           0\n",
       "Loan_Amount_Term     0\n",
       "Credit_History       0\n",
       "Property_Area        0\n",
       "Loan_Status          0\n",
       "dtype: int64"
      ]
     },
     "execution_count": 13,
     "metadata": {},
     "output_type": "execute_result"
    }
   ],
   "source": [
    "df.isnull().sum()"
   ]
  },
  {
   "cell_type": "markdown",
   "id": "e47e14cd",
   "metadata": {
    "papermill": {
     "duration": 0.010509,
     "end_time": "2025-04-26T12:26:54.427963",
     "exception": false,
     "start_time": "2025-04-26T12:26:54.417454",
     "status": "completed"
    },
    "tags": []
   },
   "source": [
    "# *EDA*"
   ]
  },
  {
   "cell_type": "code",
   "execution_count": 14,
   "id": "c0f4c0bb",
   "metadata": {},
   "outputs": [
    {
     "data": {
      "text/plain": [
       "Loan_Status\n",
       "Y    271\n",
       "N    110\n",
       "Name: count, dtype: int64"
      ]
     },
     "execution_count": 14,
     "metadata": {},
     "output_type": "execute_result"
    }
   ],
   "source": [
    "df['Loan_Status'].value_counts()"
   ]
  },
  {
   "cell_type": "code",
   "execution_count": 15,
   "id": "5407b355",
   "metadata": {
    "execution": {
     "iopub.execute_input": "2025-04-26T12:26:54.513019Z",
     "iopub.status.busy": "2025-04-26T12:26:54.512451Z",
     "iopub.status.idle": "2025-04-26T12:26:54.688882Z",
     "shell.execute_reply": "2025-04-26T12:26:54.687880Z"
    },
    "papermill": {
     "duration": 0.189474,
     "end_time": "2025-04-26T12:26:54.690526",
     "exception": false,
     "start_time": "2025-04-26T12:26:54.501052",
     "status": "completed"
    },
    "tags": []
   },
   "outputs": [
    {
     "data": {
      "image/png": "[encoded data removed]",
      "text/plain": [
       "<Figure size 640x480 with 1 Axes>"
      ]
     },
     "metadata": {},
     "output_type": "display_data"
    }
   ],
   "source": [
    "# Overall approval rate\n",
    "approval_counts = df['Loan_Status'].value_counts()\n",
    "plt.pie(approval_counts, labels=approval_counts.index, autopct='%1.1f%%', colors=['#66b3ff','#99ff99'])\n",
    "plt.title('Overall Loan Approval Rate')\n",
    "plt.show()"
   ]
  },
  {
   "cell_type": "code",
   "execution_count": 16,
   "id": "12ef6389",
   "metadata": {
    "execution": {
     "iopub.execute_input": "2025-04-26T12:26:54.715940Z",
     "iopub.status.busy": "2025-04-26T12:26:54.715591Z",
     "iopub.status.idle": "2025-04-26T12:26:54.965774Z",
     "shell.execute_reply": "2025-04-26T12:26:54.964988Z"
    },
    "papermill": {
     "duration": 0.264536,
     "end_time": "2025-04-26T12:26:54.967302",
     "exception": false,
     "start_time": "2025-04-26T12:26:54.702766",
     "status": "completed"
    },
    "tags": []
   },
   "outputs": [
    {
     "data": {
      "image/png": "[encoded data removed]",
      "text/plain": [
       "<Figure size 640x480 with 1 Axes>"
      ]
     },
     "metadata": {},
     "output_type": "display_data"
    }
   ],
   "source": [
    "# Approval by Gender\n",
    "gender_approval = pd.crosstab(df['Gender'], df['Loan_Status'], normalize='index') * 100\n",
    "gender_approval.plot(kind='bar', stacked=True, color=['#ff9999','#66b3ff'])\n",
    "plt.title('Approval Rate by Gender')\n",
    "plt.ylabel('Percentage')\n",
    "plt.xticks(rotation=0)\n",
    "plt.show()"
   ]
  },
  {
   "cell_type": "code",
   "execution_count": 17,
   "id": "f26fe3e9",
   "metadata": {
    "execution": {
     "iopub.execute_input": "2025-04-26T12:26:54.993995Z",
     "iopub.status.busy": "2025-04-26T12:26:54.993276Z",
     "iopub.status.idle": "2025-04-26T12:26:55.167852Z",
     "shell.execute_reply": "2025-04-26T12:26:55.167087Z"
    },
    "papermill": {
     "duration": 0.189455,
     "end_time": "2025-04-26T12:26:55.169480",
     "exception": false,
     "start_time": "2025-04-26T12:26:54.980025",
     "status": "completed"
    },
    "tags": []
   },
   "outputs": [
    {
     "data": {
      "image/png": "[encoded data removed]",
      "text/plain": [
       "<Figure size 640x480 with 1 Axes>"
      ]
     },
     "metadata": {},
     "output_type": "display_data"
    }
   ],
   "source": [
    "# Approval by Marital Status\n",
    "married_approval = pd.crosstab(df['Married'], df['Loan_Status'], normalize='index') * 100\n",
    "married_approval.plot(kind='bar', stacked=True, color=['#ff9999','#66b3ff'])\n",
    "plt.title('Approval Rate by Marital Status')\n",
    "plt.ylabel('Percentage')\n",
    "plt.xticks(rotation=0)\n",
    "plt.show()"
   ]
  },
  {
   "cell_type": "code",
   "execution_count": 18,
   "id": "8bfe0f00",
   "metadata": {
    "execution": {
     "iopub.execute_input": "2025-04-26T12:26:55.196124Z",
     "iopub.status.busy": "2025-04-26T12:26:55.195769Z",
     "iopub.status.idle": "2025-04-26T12:26:55.368133Z",
     "shell.execute_reply": "2025-04-26T12:26:55.367055Z"
    },
    "papermill": {
     "duration": 0.187402,
     "end_time": "2025-04-26T12:26:55.369648",
     "exception": false,
     "start_time": "2025-04-26T12:26:55.182246",
     "status": "completed"
    },
    "tags": []
   },
   "outputs": [
    {
     "data": {
      "image/png": "[encoded data removed]",
      "text/plain": [
       "<Figure size 640x480 with 1 Axes>"
      ]
     },
     "metadata": {},
     "output_type": "display_data"
    }
   ],
   "source": [
    "# Approval by Education\n",
    "edu_approval = pd.crosstab(df['Education'], df['Loan_Status'], normalize='index') * 100\n",
    "edu_approval.plot(kind='bar', stacked=True, color=['#ff9999','#66b3ff'])\n",
    "plt.title('Approval Rate by Education')\n",
    "plt.ylabel('Percentage')\n",
    "plt.xticks(rotation=0)\n",
    "plt.show()"
   ]
  },
  {
   "cell_type": "code",
   "execution_count": 19,
   "id": "e016c1f8",
   "metadata": {
    "execution": {
     "iopub.execute_input": "2025-04-26T12:26:55.397515Z",
     "iopub.status.busy": "2025-04-26T12:26:55.397169Z",
     "iopub.status.idle": "2025-04-26T12:26:55.576004Z",
     "shell.execute_reply": "2025-04-26T12:26:55.575078Z"
    },
    "papermill": {
     "duration": 0.194217,
     "end_time": "2025-04-26T12:26:55.577339",
     "exception": false,
     "start_time": "2025-04-26T12:26:55.383122",
     "status": "completed"
    },
    "tags": []
   },
   "outputs": [
    {
     "data": {
      "image/png": "[encoded data removed]",
      "text/plain": [
       "<Figure size 640x480 with 1 Axes>"
      ]
     },
     "metadata": {},
     "output_type": "display_data"
    }
   ],
   "source": [
    "# Approval by Property Area\n",
    "property_approval = pd.crosstab(df['Property_Area'], df['Loan_Status'], normalize='index') * 100\n",
    "property_approval.plot(kind='bar', stacked=True, color=['#ff9999','#66b3ff'])\n",
    "plt.title('Approval Rate by Property Area')\n",
    "plt.ylabel('Percentage')\n",
    "plt.xticks(rotation=0)\n",
    "plt.show()"
   ]
  },
  {
   "cell_type": "code",
   "execution_count": 20,
   "id": "885791b6",
   "metadata": {
    "execution": {
     "iopub.execute_input": "2025-04-26T12:26:55.606182Z",
     "iopub.status.busy": "2025-04-26T12:26:55.605819Z",
     "iopub.status.idle": "2025-04-26T12:26:55.785780Z",
     "shell.execute_reply": "2025-04-26T12:26:55.784895Z"
    },
    "papermill": {
     "duration": 0.196254,
     "end_time": "2025-04-26T12:26:55.787347",
     "exception": false,
     "start_time": "2025-04-26T12:26:55.591093",
     "status": "completed"
    },
    "tags": []
   },
   "outputs": [
    {
     "data": {
      "image/png": "[encoded data removed]",
      "text/plain": [
       "<Figure size 640x480 with 1 Axes>"
      ]
     },
     "metadata": {},
     "output_type": "display_data"
    }
   ],
   "source": [
    "\n",
    "dependents_approval = pd.crosstab(df['Dependents'], df['Loan_Status'], normalize='index') * 100\n",
    "dependents_approval.plot(kind='bar', stacked=True, color=['#ff9999','#66b3ff'])\n",
    "plt.title('Approval Rate by Dependents')\n",
    "plt.ylabel('Percentage')\n",
    "plt.xticks(rotation=0)\n",
    "plt.show()"
   ]
  },
  {
   "cell_type": "code",
   "execution_count": 21,
   "id": "6643c6a4",
   "metadata": {
    "execution": {
     "iopub.execute_input": "2025-04-26T12:26:55.817237Z",
     "iopub.status.busy": "2025-04-26T12:26:55.816601Z",
     "iopub.status.idle": "2025-04-26T12:26:56.099113Z",
     "shell.execute_reply": "2025-04-26T12:26:56.098086Z"
    },
    "papermill": {
     "duration": 0.298969,
     "end_time": "2025-04-26T12:26:56.100620",
     "exception": false,
     "start_time": "2025-04-26T12:26:55.801651",
     "status": "completed"
    },
    "tags": []
   },
   "outputs": [
    {
     "data": {
      "image/png": "[encoded data removed]",
      "text/plain": [
       "<Figure size 640x480 with 1 Axes>"
      ]
     },
     "metadata": {},
     "output_type": "display_data"
    }
   ],
   "source": [
    "# Coapplicant Income Distribution\n",
    "sns.histplot(df['CoapplicantIncome'], bins=30, kde=True, color='salmon')\n",
    "plt.title('Coapplicant Income Distribution')\n",
    "plt.xlabel('Coapplicant Income')\n",
    "plt.show()"
   ]
  },
  {
   "cell_type": "code",
   "execution_count": 22,
   "id": "607c4e88",
   "metadata": {
    "execution": {
     "iopub.execute_input": "2025-04-26T12:26:56.132586Z",
     "iopub.status.busy": "2025-04-26T12:26:56.132260Z",
     "iopub.status.idle": "2025-04-26T12:26:56.276066Z",
     "shell.execute_reply": "2025-04-26T12:26:56.275115Z"
    },
    "papermill": {
     "duration": 0.161213,
     "end_time": "2025-04-26T12:26:56.277537",
     "exception": false,
     "start_time": "2025-04-26T12:26:56.116324",
     "status": "completed"
    },
    "tags": []
   },
   "outputs": [
    {
     "name": "stderr",
     "output_type": "stream",
     "text": [
      "C:\\Users\\moshe\\AppData\\Local\\Temp\\ipykernel_3300\\4047912891.py:1: FutureWarning: \n",
      "\n",
      "Passing `palette` without assigning `hue` is deprecated and will be removed in v0.14.0. Assign the `x` variable to `hue` and set `legend=False` for the same effect.\n",
      "\n",
      "  sns.boxplot(x='Loan_Status', y='ApplicantIncome', data=df, palette=['#ff9999','#66b3ff'])\n"
     ]
    },
    {
     "data": {
      "image/png": "[encoded data removed]",
      "text/plain": [
       "<Figure size 640x480 with 1 Axes>"
      ]
     },
     "metadata": {},
     "output_type": "display_data"
    }
   ],
   "source": [
    "sns.boxplot(x='Loan_Status', y='ApplicantIncome', data=df, palette=['#ff9999','#66b3ff'])\n",
    "plt.title('Applicant Income by Loan Status')\n",
    "plt.show()\n"
   ]
  },
  {
   "cell_type": "code",
   "execution_count": 23,
   "id": "d53f7155",
   "metadata": {
    "execution": {
     "iopub.execute_input": "2025-04-26T12:26:56.311682Z",
     "iopub.status.busy": "2025-04-26T12:26:56.311368Z",
     "iopub.status.idle": "2025-04-26T12:26:56.467497Z",
     "shell.execute_reply": "2025-04-26T12:26:56.466636Z"
    },
    "papermill": {
     "duration": 0.174874,
     "end_time": "2025-04-26T12:26:56.468944",
     "exception": false,
     "start_time": "2025-04-26T12:26:56.294070",
     "status": "completed"
    },
    "tags": []
   },
   "outputs": [
    {
     "name": "stderr",
     "output_type": "stream",
     "text": [
      "C:\\Users\\moshe\\AppData\\Local\\Temp\\ipykernel_3300\\3108161801.py:1: FutureWarning: \n",
      "\n",
      "Passing `palette` without assigning `hue` is deprecated and will be removed in v0.14.0. Assign the `x` variable to `hue` and set `legend=False` for the same effect.\n",
      "\n",
      "  sns.boxplot(x='Loan_Status', y='CoapplicantIncome', data=df, palette=['#ff9999','#66b3ff'])\n"
     ]
    },
    {
     "data": {
      "image/png": "[encoded data removed]",
      "text/plain": [
       "<Figure size 640x480 with 1 Axes>"
      ]
     },
     "metadata": {},
     "output_type": "display_data"
    }
   ],
   "source": [
    "sns.boxplot(x='Loan_Status', y='CoapplicantIncome', data=df, palette=['#ff9999','#66b3ff'])\n",
    "plt.title('Coapplicant Income by Loan Status')\n",
    "plt.show()"
   ]
  },
  {
   "cell_type": "code",
   "execution_count": 24,
   "id": "7e660862",
   "metadata": {
    "execution": {
     "iopub.execute_input": "2025-04-26T12:26:56.504426Z",
     "iopub.status.busy": "2025-04-26T12:26:56.503717Z",
     "iopub.status.idle": "2025-04-26T12:26:56.657229Z",
     "shell.execute_reply": "2025-04-26T12:26:56.656195Z"
    },
    "papermill": {
     "duration": 0.172917,
     "end_time": "2025-04-26T12:26:56.658986",
     "exception": false,
     "start_time": "2025-04-26T12:26:56.486069",
     "status": "completed"
    },
    "tags": []
   },
   "outputs": [
    {
     "name": "stderr",
     "output_type": "stream",
     "text": [
      "C:\\Users\\moshe\\AppData\\Local\\Temp\\ipykernel_3300\\1623918204.py:2: FutureWarning: \n",
      "\n",
      "Passing `palette` without assigning `hue` is deprecated and will be removed in v0.14.0. Assign the `x` variable to `hue` and set `legend=False` for the same effect.\n",
      "\n",
      "  sns.boxplot(x='Loan_Status', y='LoanAmount', data=df, palette=['#ff9999','#66b3ff'])\n"
     ]
    },
    {
     "data": {
      "image/png": "[encoded data removed]",
      "text/plain": [
       "<Figure size 640x480 with 1 Axes>"
      ]
     },
     "metadata": {},
     "output_type": "display_data"
    }
   ],
   "source": [
    "# Loan Amount vs Loan Status\n",
    "sns.boxplot(x='Loan_Status', y='LoanAmount', data=df, palette=['#ff9999','#66b3ff'])\n",
    "plt.title('Loan Amount by Loan Status')\n",
    "plt.show()"
   ]
  },
  {
   "cell_type": "code",
   "execution_count": 25,
   "id": "e6dc2148",
   "metadata": {
    "execution": {
     "iopub.execute_input": "2025-04-26T12:26:56.694689Z",
     "iopub.status.busy": "2025-04-26T12:26:56.694409Z",
     "iopub.status.idle": "2025-04-26T12:26:56.876735Z",
     "shell.execute_reply": "2025-04-26T12:26:56.875886Z"
    },
    "papermill": {
     "duration": 0.202289,
     "end_time": "2025-04-26T12:26:56.878249",
     "exception": false,
     "start_time": "2025-04-26T12:26:56.675960",
     "status": "completed"
    },
    "tags": []
   },
   "outputs": [
    {
     "data": {
      "image/png": "[encoded data removed]",
      "text/plain": [
       "<Figure size 640x480 with 1 Axes>"
      ]
     },
     "metadata": {},
     "output_type": "display_data"
    }
   ],
   "source": [
    "# Credit History vs Loan Status\n",
    "credit_approval = pd.crosstab(df['Credit_History'], df['Loan_Status'], normalize='index') * 100\n",
    "credit_approval.plot(kind='bar', stacked=True, color=['#ff9999','#66b3ff'])\n",
    "plt.title('Approval Rate by Credit History')\n",
    "plt.ylabel('Percentage')\n",
    "plt.xticks([0, 1], ['Bad Credit (0)', 'Good Credit (1)'], rotation=0)\n",
    "plt.show()"
   ]
  },
  {
   "cell_type": "code",
   "execution_count": 26,
   "id": "8fe7ce7d",
   "metadata": {
    "execution": {
     "iopub.execute_input": "2025-04-26T12:26:56.914787Z",
     "iopub.status.busy": "2025-04-26T12:26:56.914203Z",
     "iopub.status.idle": "2025-04-26T12:26:57.110784Z",
     "shell.execute_reply": "2025-04-26T12:26:57.109669Z"
    },
    "papermill": {
     "duration": 0.216335,
     "end_time": "2025-04-26T12:26:57.112308",
     "exception": false,
     "start_time": "2025-04-26T12:26:56.895973",
     "status": "completed"
    },
    "tags": []
   },
   "outputs": [
    {
     "data": {
      "image/png": "[encoded data removed]",
      "text/plain": [
       "<Figure size 640x480 with 1 Axes>"
      ]
     },
     "metadata": {},
     "output_type": "display_data"
    }
   ],
   "source": [
    "# Property Area vs Loan Status\n",
    "sns.countplot(x='Property_Area', hue='Loan_Status', data=df, \n",
    "              palette=['#ff9999','#66b3ff'], order=df['Property_Area'].value_counts().index)\n",
    "plt.title('Loan Status by Property Area')\n",
    "plt.ylabel('Count')\n",
    "\n",
    "plt.tight_layout()\n",
    "plt.show()"
   ]
  },
  {
   "cell_type": "code",
   "execution_count": 27,
   "id": "244cd7ed",
   "metadata": {
    "execution": {
     "iopub.execute_input": "2025-04-26T12:26:57.150694Z",
     "iopub.status.busy": "2025-04-26T12:26:57.150395Z",
     "iopub.status.idle": "2025-04-26T12:26:57.317263Z",
     "shell.execute_reply": "2025-04-26T12:26:57.316279Z"
    },
    "papermill": {
     "duration": 0.188247,
     "end_time": "2025-04-26T12:26:57.318848",
     "exception": false,
     "start_time": "2025-04-26T12:26:57.130601",
     "status": "completed"
    },
    "tags": []
   },
   "outputs": [
    {
     "data": {
      "image/png": "[encoded data removed]",
      "text/plain": [
       "<Figure size 640x480 with 1 Axes>"
      ]
     },
     "metadata": {},
     "output_type": "display_data"
    }
   ],
   "source": [
    "# Employment vs Loan Status\n",
    "sns.countplot(x='Self_Employed', hue='Loan_Status', data=df, palette=['#ff9999','#66b3ff'])\n",
    "plt.title('Loan Status by Employment Type')\n",
    "plt.ylabel('Count')\n",
    "\n",
    "plt.show()"
   ]
  },
  {
   "cell_type": "markdown",
   "id": "34c25375",
   "metadata": {
    "papermill": {
     "duration": 0.018568,
     "end_time": "2025-04-26T12:26:57.356849",
     "exception": false,
     "start_time": "2025-04-26T12:26:57.338281",
     "status": "completed"
    },
    "tags": []
   },
   "source": [
    "# *Data formating*"
   ]
  },
  {
   "cell_type": "code",
   "execution_count": 28,
   "id": "42c856ec",
   "metadata": {
    "execution": {
     "iopub.execute_input": "2025-04-26T12:26:57.395978Z",
     "iopub.status.busy": "2025-04-26T12:26:57.395627Z",
     "iopub.status.idle": "2025-04-26T12:26:57.406647Z",
     "shell.execute_reply": "2025-04-26T12:26:57.405606Z"
    },
    "papermill": {
     "duration": 0.033011,
     "end_time": "2025-04-26T12:26:57.408676",
     "exception": false,
     "start_time": "2025-04-26T12:26:57.375665",
     "status": "completed"
    },
    "tags": []
   },
   "outputs": [
    {
     "name": "stdout",
     "output_type": "stream",
     "text": [
      "<class 'pandas.core.frame.DataFrame'>\n",
      "RangeIndex: 381 entries, 0 to 380\n",
      "Data columns (total 13 columns):\n",
      " #   Column             Non-Null Count  Dtype  \n",
      "---  ------             --------------  -----  \n",
      " 0   Loan_ID            381 non-null    object \n",
      " 1   Gender             381 non-null    object \n",
      " 2   Married            381 non-null    object \n",
      " 3   Dependents         381 non-null    object \n",
      " 4   Education          381 non-null    object \n",
      " 5   Self_Employed      381 non-null    object \n",
      " 6   ApplicantIncome    381 non-null    int64  \n",
      " 7   CoapplicantIncome  381 non-null    float64\n",
      " 8   LoanAmount         381 non-null    float64\n",
      " 9   Loan_Amount_Term   381 non-null    float64\n",
      " 10  Credit_History     381 non-null    float64\n",
      " 11  Property_Area      381 non-null    object \n",
      " 12  Loan_Status        381 non-null    object \n",
      "dtypes: float64(4), int64(1), object(8)\n",
      "memory usage: 38.8+ KB\n"
     ]
    }
   ],
   "source": [
    "df.info()"
   ]
  },
  {
   "cell_type": "code",
   "execution_count": 29,
   "id": "c5d78b8b",
   "metadata": {
    "execution": {
     "iopub.execute_input": "2025-04-26T12:26:57.451458Z",
     "iopub.status.busy": "2025-04-26T12:26:57.451122Z",
     "iopub.status.idle": "2025-04-26T12:26:57.457798Z",
     "shell.execute_reply": "2025-04-26T12:26:57.456849Z"
    },
    "papermill": {
     "duration": 0.028659,
     "end_time": "2025-04-26T12:26:57.459472",
     "exception": false,
     "start_time": "2025-04-26T12:26:57.430813",
     "status": "completed"
    },
    "tags": []
   },
   "outputs": [
    {
     "data": {
      "text/plain": [
       "381"
      ]
     },
     "execution_count": 29,
     "metadata": {},
     "output_type": "execute_result"
    }
   ],
   "source": [
    "df['Loan_ID'].nunique()"
   ]
  },
  {
   "cell_type": "code",
   "execution_count": 30,
   "id": "46c7321a",
   "metadata": {
    "execution": {
     "iopub.execute_input": "2025-04-26T12:26:57.499930Z",
     "iopub.status.busy": "2025-04-26T12:26:57.499549Z",
     "iopub.status.idle": "2025-04-26T12:26:57.507551Z",
     "shell.execute_reply": "2025-04-26T12:26:57.506597Z"
    },
    "papermill": {
     "duration": 0.030041,
     "end_time": "2025-04-26T12:26:57.509221",
     "exception": false,
     "start_time": "2025-04-26T12:26:57.479180",
     "status": "completed"
    },
    "tags": []
   },
   "outputs": [],
   "source": [
    "df.drop(['Loan_ID','Property_Area'],axis=1,inplace=True)"
   ]
  },
  {
   "cell_type": "code",
   "execution_count": 31,
   "id": "fdedf477",
   "metadata": {
    "execution": {
     "iopub.execute_input": "2025-04-26T12:26:57.549988Z",
     "iopub.status.busy": "2025-04-26T12:26:57.549609Z",
     "iopub.status.idle": "2025-04-26T12:26:57.560103Z",
     "shell.execute_reply": "2025-04-26T12:26:57.559160Z"
    },
    "papermill": {
     "duration": 0.032423,
     "end_time": "2025-04-26T12:26:57.561560",
     "exception": false,
     "start_time": "2025-04-26T12:26:57.529137",
     "status": "completed"
    },
    "tags": []
   },
   "outputs": [
    {
     "name": "stdout",
     "output_type": "stream",
     "text": [
      "<class 'pandas.core.frame.DataFrame'>\n",
      "RangeIndex: 381 entries, 0 to 380\n",
      "Data columns (total 11 columns):\n",
      " #   Column             Non-Null Count  Dtype  \n",
      "---  ------             --------------  -----  \n",
      " 0   Gender             381 non-null    object \n",
      " 1   Married            381 non-null    object \n",
      " 2   Dependents         381 non-null    object \n",
      " 3   Education          381 non-null    object \n",
      " 4   Self_Employed      381 non-null    object \n",
      " 5   ApplicantIncome    381 non-null    int64  \n",
      " 6   CoapplicantIncome  381 non-null    float64\n",
      " 7   LoanAmount         381 non-null    float64\n",
      " 8   Loan_Amount_Term   381 non-null    float64\n",
      " 9   Credit_History     381 non-null    float64\n",
      " 10  Loan_Status        381 non-null    object \n",
      "dtypes: float64(4), int64(1), object(6)\n",
      "memory usage: 32.9+ KB\n"
     ]
    }
   ],
   "source": [
    "df.info()"
   ]
  },
  {
   "cell_type": "code",
   "execution_count": 32,
   "id": "cbf0e427",
   "metadata": {
    "execution": {
     "iopub.execute_input": "2025-04-26T12:26:57.601090Z",
     "iopub.status.busy": "2025-04-26T12:26:57.600678Z",
     "iopub.status.idle": "2025-04-26T12:26:57.608599Z",
     "shell.execute_reply": "2025-04-26T12:26:57.607560Z"
    },
    "papermill": {
     "duration": 0.029173,
     "end_time": "2025-04-26T12:26:57.610046",
     "exception": false,
     "start_time": "2025-04-26T12:26:57.580873",
     "status": "completed"
    },
    "tags": []
   },
   "outputs": [
    {
     "data": {
      "text/plain": [
       "Dependents\n",
       "0     242\n",
       "2      59\n",
       "1      52\n",
       "3+     28\n",
       "Name: count, dtype: int64"
      ]
     },
     "execution_count": 32,
     "metadata": {},
     "output_type": "execute_result"
    }
   ],
   "source": [
    "df['Dependents'].value_counts()"
   ]
  },
  {
   "cell_type": "markdown",
   "id": "f1115dcf",
   "metadata": {
    "papermill": {
     "duration": 0.018874,
     "end_time": "2025-04-26T12:26:57.647817",
     "exception": false,
     "start_time": "2025-04-26T12:26:57.628943",
     "status": "completed"
    },
    "tags": []
   },
   "source": [
    "# *Data Preprocessings*"
   ]
  },
  {
   "cell_type": "code",
   "execution_count": 33,
   "id": "be227873",
   "metadata": {
    "execution": {
     "iopub.execute_input": "2025-04-26T12:26:57.687733Z",
     "iopub.status.busy": "2025-04-26T12:26:57.687144Z",
     "iopub.status.idle": "2025-04-26T12:26:57.692287Z",
     "shell.execute_reply": "2025-04-26T12:26:57.691297Z"
    },
    "papermill": {
     "duration": 0.026854,
     "end_time": "2025-04-26T12:26:57.693777",
     "exception": false,
     "start_time": "2025-04-26T12:26:57.666923",
     "status": "completed"
    },
    "tags": []
   },
   "outputs": [],
   "source": [
    "# Encoding\n",
    "encoding={\n",
    "    'Gender': {'Male':1 , 'Female': 0}, \n",
    "    'Married': {'Yes': 1, 'No': 0},\n",
    "    'Dependents': {'0':0, '1':1, '2': 2, '3+': 4},\n",
    "    'Education': {'Graduate': 1, 'Not Graduate': 0},\n",
    "    'Self_Employed': {'Yes': 1, 'No': 0},\n",
    "    'Loan_Status': {'Y': 1, 'N': 0}\n",
    "}"
   ]
  },
  {
   "cell_type": "code",
   "execution_count": 34,
   "id": "ed46814d",
   "metadata": {
    "execution": {
     "iopub.execute_input": "2025-04-26T12:26:57.733494Z",
     "iopub.status.busy": "2025-04-26T12:26:57.733161Z",
     "iopub.status.idle": "2025-04-26T12:26:57.744590Z",
     "shell.execute_reply": "2025-04-26T12:26:57.743575Z"
    },
    "papermill": {
     "duration": 0.032807,
     "end_time": "2025-04-26T12:26:57.745922",
     "exception": false,
     "start_time": "2025-04-26T12:26:57.713115",
     "status": "completed"
    },
    "tags": []
   },
   "outputs": [
    {
     "name": "stderr",
     "output_type": "stream",
     "text": [
      "C:\\Users\\moshe\\AppData\\Local\\Temp\\ipykernel_3300\\90793572.py:1: FutureWarning: Downcasting behavior in `replace` is deprecated and will be removed in a future version. To retain the old behavior, explicitly call `result.infer_objects(copy=False)`. To opt-in to the future behavior, set `pd.set_option('future.no_silent_downcasting', True)`\n",
      "  df.replace(encoding, inplace=True)\n"
     ]
    }
   ],
   "source": [
    "\n",
    "df.replace(encoding, inplace=True)"
   ]
  },
  {
   "cell_type": "code",
   "execution_count": 35,
   "id": "cde52fbc",
   "metadata": {
    "execution": {
     "iopub.execute_input": "2025-04-26T12:26:57.785445Z",
     "iopub.status.busy": "2025-04-26T12:26:57.785082Z",
     "iopub.status.idle": "2025-04-26T12:26:57.798131Z",
     "shell.execute_reply": "2025-04-26T12:26:57.797263Z"
    },
    "papermill": {
     "duration": 0.034252,
     "end_time": "2025-04-26T12:26:57.799554",
     "exception": false,
     "start_time": "2025-04-26T12:26:57.765302",
     "status": "completed"
    },
    "tags": []
   },
   "outputs": [
    {
     "data": {
      "text/html": [
       "<div>\n",
       "<style scoped>\n",
       "    .dataframe tbody tr th:only-of-type {\n",
       "        vertical-align: middle;\n",
       "    }\n",
       "\n",
       "    .dataframe tbody tr th {\n",
       "        vertical-align: top;\n",
       "    }\n",
       "\n",
       "    .dataframe thead th {\n",
       "        text-align: right;\n",
       "    }\n",
       "</style>\n",
       "<table border=\"1\" class=\"dataframe\">\n",
       "  <thead>\n",
       "    <tr style=\"text-align: right;\">\n",
       "      <th></th>\n",
       "      <th>Gender</th>\n",
       "      <th>Married</th>\n",
       "      <th>Dependents</th>\n",
       "      <th>Education</th>\n",
       "      <th>Self_Employed</th>\n",
       "      <th>ApplicantIncome</th>\n",
       "      <th>CoapplicantIncome</th>\n",
       "      <th>LoanAmount</th>\n",
       "      <th>Loan_Amount_Term</th>\n",
       "      <th>Credit_History</th>\n",
       "      <th>Loan_Status</th>\n",
       "    </tr>\n",
       "  </thead>\n",
       "  <tbody>\n",
       "    <tr>\n",
       "      <th>0</th>\n",
       "      <td>1</td>\n",
       "      <td>1</td>\n",
       "      <td>1</td>\n",
       "      <td>1</td>\n",
       "      <td>0</td>\n",
       "      <td>4583</td>\n",
       "      <td>1508.0</td>\n",
       "      <td>128.0</td>\n",
       "      <td>360.0</td>\n",
       "      <td>1.0</td>\n",
       "      <td>0</td>\n",
       "    </tr>\n",
       "    <tr>\n",
       "      <th>1</th>\n",
       "      <td>1</td>\n",
       "      <td>1</td>\n",
       "      <td>0</td>\n",
       "      <td>1</td>\n",
       "      <td>1</td>\n",
       "      <td>3000</td>\n",
       "      <td>0.0</td>\n",
       "      <td>66.0</td>\n",
       "      <td>360.0</td>\n",
       "      <td>1.0</td>\n",
       "      <td>1</td>\n",
       "    </tr>\n",
       "    <tr>\n",
       "      <th>2</th>\n",
       "      <td>1</td>\n",
       "      <td>1</td>\n",
       "      <td>0</td>\n",
       "      <td>0</td>\n",
       "      <td>0</td>\n",
       "      <td>2583</td>\n",
       "      <td>2358.0</td>\n",
       "      <td>120.0</td>\n",
       "      <td>360.0</td>\n",
       "      <td>1.0</td>\n",
       "      <td>1</td>\n",
       "    </tr>\n",
       "    <tr>\n",
       "      <th>3</th>\n",
       "      <td>1</td>\n",
       "      <td>0</td>\n",
       "      <td>0</td>\n",
       "      <td>1</td>\n",
       "      <td>0</td>\n",
       "      <td>6000</td>\n",
       "      <td>0.0</td>\n",
       "      <td>141.0</td>\n",
       "      <td>360.0</td>\n",
       "      <td>1.0</td>\n",
       "      <td>1</td>\n",
       "    </tr>\n",
       "    <tr>\n",
       "      <th>4</th>\n",
       "      <td>1</td>\n",
       "      <td>1</td>\n",
       "      <td>0</td>\n",
       "      <td>0</td>\n",
       "      <td>0</td>\n",
       "      <td>2333</td>\n",
       "      <td>1516.0</td>\n",
       "      <td>95.0</td>\n",
       "      <td>360.0</td>\n",
       "      <td>1.0</td>\n",
       "      <td>1</td>\n",
       "    </tr>\n",
       "  </tbody>\n",
       "</table>\n",
       "</div>"
      ],
      "text/plain": [
       "   Gender  Married  Dependents  Education  Self_Employed  ApplicantIncome  \\\n",
       "0       1        1           1          1              0             4583   \n",
       "1       1        1           0          1              1             3000   \n",
       "2       1        1           0          0              0             2583   \n",
       "3       1        0           0          1              0             6000   \n",
       "4       1        1           0          0              0             2333   \n",
       "\n",
       "   CoapplicantIncome  LoanAmount  Loan_Amount_Term  Credit_History  \\\n",
       "0             1508.0       128.0             360.0             1.0   \n",
       "1                0.0        66.0             360.0             1.0   \n",
       "2             2358.0       120.0             360.0             1.0   \n",
       "3                0.0       141.0             360.0             1.0   \n",
       "4             1516.0        95.0             360.0             1.0   \n",
       "\n",
       "   Loan_Status  \n",
       "0            0  \n",
       "1            1  \n",
       "2            1  \n",
       "3            1  \n",
       "4            1  "
      ]
     },
     "execution_count": 35,
     "metadata": {},
     "output_type": "execute_result"
    }
   ],
   "source": [
    "df.head()"
   ]
  },
  {
   "cell_type": "code",
   "execution_count": 36,
   "id": "0f368999",
   "metadata": {
    "execution": {
     "iopub.execute_input": "2025-04-26T12:26:57.839536Z",
     "iopub.status.busy": "2025-04-26T12:26:57.839231Z",
     "iopub.status.idle": "2025-04-26T12:26:57.850049Z",
     "shell.execute_reply": "2025-04-26T12:26:57.848783Z"
    },
    "papermill": {
     "duration": 0.032046,
     "end_time": "2025-04-26T12:26:57.851480",
     "exception": false,
     "start_time": "2025-04-26T12:26:57.819434",
     "status": "completed"
    },
    "tags": []
   },
   "outputs": [
    {
     "name": "stdout",
     "output_type": "stream",
     "text": [
      "<class 'pandas.core.frame.DataFrame'>\n",
      "RangeIndex: 381 entries, 0 to 380\n",
      "Data columns (total 11 columns):\n",
      " #   Column             Non-Null Count  Dtype  \n",
      "---  ------             --------------  -----  \n",
      " 0   Gender             381 non-null    int64  \n",
      " 1   Married            381 non-null    int64  \n",
      " 2   Dependents         381 non-null    int64  \n",
      " 3   Education          381 non-null    int64  \n",
      " 4   Self_Employed      381 non-null    int64  \n",
      " 5   ApplicantIncome    381 non-null    int64  \n",
      " 6   CoapplicantIncome  381 non-null    float64\n",
      " 7   LoanAmount         381 non-null    float64\n",
      " 8   Loan_Amount_Term   381 non-null    float64\n",
      " 9   Credit_History     381 non-null    float64\n",
      " 10  Loan_Status        381 non-null    int64  \n",
      "dtypes: float64(4), int64(7)\n",
      "memory usage: 32.9 KB\n"
     ]
    }
   ],
   "source": [
    "df.info()"
   ]
  },
  {
   "cell_type": "code",
   "execution_count": 37,
   "id": "1f6df69a",
   "metadata": {
    "execution": {
     "iopub.execute_input": "2025-04-26T12:26:57.892633Z",
     "iopub.status.busy": "2025-04-26T12:26:57.892324Z",
     "iopub.status.idle": "2025-04-26T12:26:57.904138Z",
     "shell.execute_reply": "2025-04-26T12:26:57.903104Z"
    },
    "papermill": {
     "duration": 0.033695,
     "end_time": "2025-04-26T12:26:57.905681",
     "exception": false,
     "start_time": "2025-04-26T12:26:57.871986",
     "status": "completed"
    },
    "tags": []
   },
   "outputs": [
    {
     "name": "stdout",
     "output_type": "stream",
     "text": [
      "Gender                  0.0\n",
      "Married                 1.0\n",
      "Dependents              1.0\n",
      "Education               1.0\n",
      "Self_Employed           0.0\n",
      "ApplicantIncome      1688.0\n",
      "CoapplicantIncome    2016.0\n",
      "LoanAmount             37.0\n",
      "Loan_Amount_Term        0.0\n",
      "Credit_History          0.0\n",
      "Loan_Status             1.0\n",
      "dtype: float64\n"
     ]
    }
   ],
   "source": [
    "# Outliers \n",
    "Q1=df.quantile(0.25)\n",
    "Q3=df.quantile(0.75)\n",
    "IQR=Q3-Q1\n",
    "print(IQR)"
   ]
  },
  {
   "cell_type": "code",
   "execution_count": 38,
   "id": "ab8d0887",
   "metadata": {
    "execution": {
     "iopub.execute_input": "2025-04-26T12:26:57.945798Z",
     "iopub.status.busy": "2025-04-26T12:26:57.945485Z",
     "iopub.status.idle": "2025-04-26T12:26:57.956098Z",
     "shell.execute_reply": "2025-04-26T12:26:57.955288Z"
    },
    "papermill": {
     "duration": 0.032228,
     "end_time": "2025-04-26T12:26:57.957386",
     "exception": false,
     "start_time": "2025-04-26T12:26:57.925158",
     "status": "completed"
    },
    "tags": []
   },
   "outputs": [
    {
     "name": "stdout",
     "output_type": "stream",
     "text": [
      "Num of Rows after removing outliers : 155\n"
     ]
    }
   ],
   "source": [
    "# Removing Outliers\n",
    "lower_bound=Q1-1.5*IQR\n",
    "upper_bound=Q3+1.5*IQR\n",
    "df=df[~((df<lower_bound)| (df>upper_bound)).any(axis=1)]\n",
    "print('Num of Rows after removing outliers :',df.shape[0])"
   ]
  },
  {
   "cell_type": "code",
   "execution_count": 39,
   "id": "393e741d",
   "metadata": {
    "execution": {
     "iopub.execute_input": "2025-04-26T12:26:57.997400Z",
     "iopub.status.busy": "2025-04-26T12:26:57.997029Z",
     "iopub.status.idle": "2025-04-26T12:26:58.003159Z",
     "shell.execute_reply": "2025-04-26T12:26:58.002240Z"
    },
    "papermill": {
     "duration": 0.028016,
     "end_time": "2025-04-26T12:26:58.004758",
     "exception": false,
     "start_time": "2025-04-26T12:26:57.976742",
     "status": "completed"
    },
    "tags": []
   },
   "outputs": [],
   "source": [
    "X=df.drop('Loan_Status',axis=1)\n",
    "Y=df['Loan_Status']"
   ]
  },
  {
   "cell_type": "code",
   "execution_count": 40,
   "id": "617e3970",
   "metadata": {
    "execution": {
     "iopub.execute_input": "2025-04-26T12:26:58.045408Z",
     "iopub.status.busy": "2025-04-26T12:26:58.045093Z",
     "iopub.status.idle": "2025-04-26T12:26:58.052543Z",
     "shell.execute_reply": "2025-04-26T12:26:58.051595Z"
    },
    "papermill": {
     "duration": 0.029518,
     "end_time": "2025-04-26T12:26:58.054109",
     "exception": false,
     "start_time": "2025-04-26T12:26:58.024591",
     "status": "completed"
    },
    "tags": []
   },
   "outputs": [],
   "source": [
    "X_train,X_test,Y_train,Y_test=train_test_split(X,Y,test_size=0.3)"
   ]
  },
  {
   "cell_type": "code",
   "execution_count": 41,
   "id": "59fd7171",
   "metadata": {
    "execution": {
     "iopub.execute_input": "2025-04-26T12:26:58.095701Z",
     "iopub.status.busy": "2025-04-26T12:26:58.094810Z",
     "iopub.status.idle": "2025-04-26T12:26:58.100676Z",
     "shell.execute_reply": "2025-04-26T12:26:58.099855Z"
    },
    "papermill": {
     "duration": 0.028014,
     "end_time": "2025-04-26T12:26:58.102162",
     "exception": false,
     "start_time": "2025-04-26T12:26:58.074148",
     "status": "completed"
    },
    "tags": []
   },
   "outputs": [
    {
     "name": "stdout",
     "output_type": "stream",
     "text": [
      "Shape of X_Train (108, 10)\n",
      "Shape of X_Test (47, 10)\n",
      "Shape of Y_Train (108,)\n",
      "Shape of Y_Test (47,)\n"
     ]
    }
   ],
   "source": [
    "# print shapes of the datasets\n",
    "print(f'Shape of X_Train {X_train.shape}')\n",
    "print(f'Shape of X_Test {X_test.shape}')\n",
    "print(f'Shape of Y_Train {Y_train.shape}')\n",
    "print(f'Shape of Y_Test {Y_test.shape}')"
   ]
  },
  {
   "cell_type": "markdown",
   "id": "aee5361c",
   "metadata": {
    "papermill": {
     "duration": 0.019322,
     "end_time": "2025-04-26T12:26:58.141495",
     "exception": false,
     "start_time": "2025-04-26T12:26:58.122173",
     "status": "completed"
    },
    "tags": []
   },
   "source": [
    "# *Modelling*"
   ]
  },
  {
   "cell_type": "code",
   "execution_count": 42,
   "id": "efef4144",
   "metadata": {
    "execution": {
     "iopub.execute_input": "2025-04-26T12:26:58.181303Z",
     "iopub.status.busy": "2025-04-26T12:26:58.180919Z",
     "iopub.status.idle": "2025-04-26T12:26:58.185621Z",
     "shell.execute_reply": "2025-04-26T12:26:58.184760Z"
    },
    "papermill": {
     "duration": 0.026643,
     "end_time": "2025-04-26T12:26:58.187435",
     "exception": false,
     "start_time": "2025-04-26T12:26:58.160792",
     "status": "completed"
    },
    "tags": []
   },
   "outputs": [],
   "source": [
    "models_list=[\n",
    "    LogisticRegression(),\n",
    "    DecisionTreeClassifier(),\n",
    "    KNeighborsClassifier(),\n",
    "    RandomForestClassifier(),\n",
    "    GradientBoostingClassifier(),\n",
    "    BaggingClassifier(),\n",
    "    XGBClassifier(),\n",
    "]"
   ]
  },
  {
   "cell_type": "code",
   "execution_count": 43,
   "id": "02c9ecd5",
   "metadata": {
    "execution": {
     "iopub.execute_input": "2025-04-26T12:26:58.228074Z",
     "iopub.status.busy": "2025-04-26T12:26:58.227722Z",
     "iopub.status.idle": "2025-04-26T12:26:58.234566Z",
     "shell.execute_reply": "2025-04-26T12:26:58.233773Z"
    },
    "papermill": {
     "duration": 0.028869,
     "end_time": "2025-04-26T12:26:58.236058",
     "exception": false,
     "start_time": "2025-04-26T12:26:58.207189",
     "status": "completed"
    },
    "tags": []
   },
   "outputs": [],
   "source": [
    "model_hyperparameters={\n",
    "   'logistic' :{\n",
    "    'C': [0.001, 0.01, 0.1, 1, 10, 100],\n",
    "    'max_iter': [1000, 200, 500]\n",
    "   },\n",
    "   \n",
    "   'dt' : {\n",
    "    'criterion': ['gini', 'entropy'],\n",
    "    'max_depth': [None, 5, 10, 20, 30],\n",
    "   },\n",
    "   \n",
    "   'knn' : {\n",
    "    'n_neighbors': [3, 5, 7, 9, 11, 13]\n",
    "   },\n",
    "   \n",
    "   'rf' : {\n",
    "    'n_estimators': [50, 100, 200],\n",
    "    'max_depth': [None, 10, 20, 30]\n",
    "   },\n",
    "   \n",
    "   'gb' : {\n",
    "    'n_estimators': [50, 100, 200],\n",
    "    'learning_rate': [0.01, 0.1, 0.2],\n",
    "    'max_depth': [3, 5, 7]\n",
    "   },\n",
    "\n",
    "    'bagging' : {\n",
    "    'n_estimators': [10, 50, 100],\n",
    "    'max_samples': [0.5, 0.7, 1.0],\n",
    "    'max_features': [0.5, 0.7, 1.0]\n",
    "   },\n",
    "   \n",
    "   'xgb' : {\n",
    "    'n_estimators': [50, 100, 200],\n",
    "    'learning_rate': [0.01, 0.1, 0.2],\n",
    "    'max_depth': [3, 5, 7]\n",
    "   },\n",
    "\n",
    "}"
   ]
  },
  {
   "cell_type": "code",
   "execution_count": 44,
   "id": "c955da58",
   "metadata": {
    "execution": {
     "iopub.execute_input": "2025-04-26T12:26:58.277721Z",
     "iopub.status.busy": "2025-04-26T12:26:58.277386Z",
     "iopub.status.idle": "2025-04-26T12:26:58.282378Z",
     "shell.execute_reply": "2025-04-26T12:26:58.281246Z"
    },
    "papermill": {
     "duration": 0.027508,
     "end_time": "2025-04-26T12:26:58.283894",
     "exception": false,
     "start_time": "2025-04-26T12:26:58.256386",
     "status": "completed"
    },
    "tags": []
   },
   "outputs": [
    {
     "name": "stdout",
     "output_type": "stream",
     "text": [
      "['logistic', 'dt', 'knn', 'rf', 'gb', 'bagging', 'xgb']\n"
     ]
    }
   ],
   "source": [
    "model_keys = list(model_hyperparameters.keys())\n",
    "print(model_keys)"
   ]
  },
  {
   "cell_type": "code",
   "execution_count": 45,
   "id": "d98daa16",
   "metadata": {
    "execution": {
     "iopub.execute_input": "2025-04-26T12:26:58.325629Z",
     "iopub.status.busy": "2025-04-26T12:26:58.324702Z",
     "iopub.status.idle": "2025-04-26T12:26:58.331108Z",
     "shell.execute_reply": "2025-04-26T12:26:58.330303Z"
    },
    "papermill": {
     "duration": 0.028422,
     "end_time": "2025-04-26T12:26:58.332580",
     "exception": false,
     "start_time": "2025-04-26T12:26:58.304158",
     "status": "completed"
    },
    "tags": []
   },
   "outputs": [
    {
     "data": {
      "text/plain": [
       "{'C': [0.001, 0.01, 0.1, 1, 10, 100], 'max_iter': [1000, 200, 500]}"
      ]
     },
     "execution_count": 45,
     "metadata": {},
     "output_type": "execute_result"
    }
   ],
   "source": [
    "\n",
    "model_hyperparameters[model_keys[0]]"
   ]
  },
  {
   "cell_type": "code",
   "execution_count": 46,
   "id": "55d582e0",
   "metadata": {
    "execution": {
     "iopub.execute_input": "2025-04-26T12:26:58.374170Z",
     "iopub.status.busy": "2025-04-26T12:26:58.373760Z",
     "iopub.status.idle": "2025-04-26T12:26:58.382236Z",
     "shell.execute_reply": "2025-04-26T12:26:58.380708Z"
    },
    "papermill": {
     "duration": 0.031312,
     "end_time": "2025-04-26T12:26:58.384081",
     "exception": false,
     "start_time": "2025-04-26T12:26:58.352769",
     "status": "completed"
    },
    "tags": []
   },
   "outputs": [],
   "source": [
    "import pickle\n",
    "def ModelSelection(list_of_models, hyperparameters_dictionary):\n",
    "    result = []\n",
    "    best_score = 0\n",
    "    best_model = None\n",
    "    best_model_name = \"\"\n",
    "    \n",
    "    for i, model in enumerate(list_of_models):\n",
    "        key = model_keys[i]\n",
    "        params = hyperparameters_dictionary[key]\n",
    "        print(f\"Training {key}...\")\n",
    "        classifier = GridSearchCV(model, params, cv=5, n_jobs=-1)\n",
    "        classifier.fit(X, Y)\n",
    "\n",
    "        score = classifier.best_score_\n",
    "        result.append({\n",
    "            'model': key,\n",
    "            'highest score': score,\n",
    "            'best hyperparameters': classifier.best_params_\n",
    "        })\n",
    "\n",
    "        if score > best_score:\n",
    "            best_score = score\n",
    "            best_model = classifier.best_estimator_\n",
    "            best_model_name = key\n",
    "\n",
    "    \n",
    "    \n",
    "    with open(f'best_model_{best_model_name}.pkl', 'wb') as f:\n",
    "        pickle.dump(best_model, f)\n",
    "\n",
    "    print(f\"\\nBest model: {best_model_name}\")\n",
    "    print(f\"Score: {best_score}\")\n",
    "    print(f\"Saved as: best_model_{best_model_name}.pkl\")\n",
    "\n",
    "    result_dataframe = pd.DataFrame(result, columns=['model', 'highest score', 'best hyperparameters'])\n",
    "    return result_dataframe"
   ]
  },
  {
   "cell_type": "code",
   "execution_count": 47,
   "id": "5eeb0f0f",
   "metadata": {
    "execution": {
     "iopub.execute_input": "2025-04-26T12:26:58.425253Z",
     "iopub.status.busy": "2025-04-26T12:26:58.424771Z",
     "iopub.status.idle": "2025-04-26T12:27:21.785427Z",
     "shell.execute_reply": "2025-04-26T12:27:21.784401Z"
    },
    "papermill": {
     "duration": 23.382929,
     "end_time": "2025-04-26T12:27:21.786952",
     "exception": false,
     "start_time": "2025-04-26T12:26:58.404023",
     "status": "completed"
    },
    "tags": []
   },
   "outputs": [
    {
     "name": "stdout",
     "output_type": "stream",
     "text": [
      "Training logistic...\n",
      "Training dt...\n",
      "Training knn...\n",
      "Training rf...\n",
      "Training gb...\n",
      "Training bagging...\n",
      "Training xgb...\n",
      "\n",
      "Best model: bagging\n",
      "Score: 0.864516129032258\n",
      "Saved as: best_model_bagging.pkl\n"
     ]
    },
    {
     "data": {
      "text/html": [
       "<div>\n",
       "<style scoped>\n",
       "    .dataframe tbody tr th:only-of-type {\n",
       "        vertical-align: middle;\n",
       "    }\n",
       "\n",
       "    .dataframe tbody tr th {\n",
       "        vertical-align: top;\n",
       "    }\n",
       "\n",
       "    .dataframe thead th {\n",
       "        text-align: right;\n",
       "    }\n",
       "</style>\n",
       "<table border=\"1\" class=\"dataframe\">\n",
       "  <thead>\n",
       "    <tr style=\"text-align: right;\">\n",
       "      <th></th>\n",
       "      <th>model</th>\n",
       "      <th>highest score</th>\n",
       "      <th>best hyperparameters</th>\n",
       "    </tr>\n",
       "  </thead>\n",
       "  <tbody>\n",
       "    <tr>\n",
       "      <th>0</th>\n",
       "      <td>logistic</td>\n",
       "      <td>0.858065</td>\n",
       "      <td>{'C': 0.001, 'max_iter': 1000}</td>\n",
       "    </tr>\n",
       "    <tr>\n",
       "      <th>1</th>\n",
       "      <td>dt</td>\n",
       "      <td>0.819355</td>\n",
       "      <td>{'criterion': 'entropy', 'max_depth': 5}</td>\n",
       "    </tr>\n",
       "    <tr>\n",
       "      <th>2</th>\n",
       "      <td>knn</td>\n",
       "      <td>0.858065</td>\n",
       "      <td>{'n_neighbors': 7}</td>\n",
       "    </tr>\n",
       "    <tr>\n",
       "      <th>3</th>\n",
       "      <td>rf</td>\n",
       "      <td>0.851613</td>\n",
       "      <td>{'max_depth': 10, 'n_estimators': 50}</td>\n",
       "    </tr>\n",
       "    <tr>\n",
       "      <th>4</th>\n",
       "      <td>gb</td>\n",
       "      <td>0.858065</td>\n",
       "      <td>{'learning_rate': 0.01, 'max_depth': 5, 'n_est...</td>\n",
       "    </tr>\n",
       "    <tr>\n",
       "      <th>5</th>\n",
       "      <td>bagging</td>\n",
       "      <td>0.864516</td>\n",
       "      <td>{'max_features': 0.5, 'max_samples': 0.7, 'n_e...</td>\n",
       "    </tr>\n",
       "    <tr>\n",
       "      <th>6</th>\n",
       "      <td>xgb</td>\n",
       "      <td>0.858065</td>\n",
       "      <td>{'learning_rate': 0.01, 'max_depth': 3, 'n_est...</td>\n",
       "    </tr>\n",
       "  </tbody>\n",
       "</table>\n",
       "</div>"
      ],
      "text/plain": [
       "      model  highest score                               best hyperparameters\n",
       "0  logistic       0.858065                     {'C': 0.001, 'max_iter': 1000}\n",
       "1        dt       0.819355           {'criterion': 'entropy', 'max_depth': 5}\n",
       "2       knn       0.858065                                 {'n_neighbors': 7}\n",
       "3        rf       0.851613              {'max_depth': 10, 'n_estimators': 50}\n",
       "4        gb       0.858065  {'learning_rate': 0.01, 'max_depth': 5, 'n_est...\n",
       "5   bagging       0.864516  {'max_features': 0.5, 'max_samples': 0.7, 'n_e...\n",
       "6       xgb       0.858065  {'learning_rate': 0.01, 'max_depth': 3, 'n_est..."
      ]
     },
     "execution_count": 47,
     "metadata": {},
     "output_type": "execute_result"
    }
   ],
   "source": [
    "ModelSelection(models_list, model_hyperparameters)"
   ]
  },
  {
   "cell_type": "markdown",
   "id": "40ba432b",
   "metadata": {
    "papermill": {
     "duration": 0.01989,
     "end_time": "2025-04-26T12:27:21.827051",
     "exception": false,
     "start_time": "2025-04-26T12:27:21.807161",
     "status": "completed"
    },
    "tags": []
   },
   "source": [
    "# *Save The Best Model*"
   ]
  },
  {
   "cell_type": "code",
   "execution_count": 48,
   "id": "08a52777",
   "metadata": {
    "execution": {
     "iopub.execute_input": "2025-04-26T12:27:21.868798Z",
     "iopub.status.busy": "2025-04-26T12:27:21.868477Z",
     "iopub.status.idle": "2025-04-26T12:27:21.877380Z",
     "shell.execute_reply": "2025-04-26T12:27:21.876379Z"
    },
    "papermill": {
     "duration": 0.032101,
     "end_time": "2025-04-26T12:27:21.879197",
     "exception": false,
     "start_time": "2025-04-26T12:27:21.847096",
     "status": "completed"
    },
    "tags": []
   },
   "outputs": [],
   "source": [
    "with open('best_model_bagging.pkl', 'rb') as f:\n",
    "    model = pickle.load(f)"
   ]
  },
  {
   "cell_type": "markdown",
   "id": "55cbcdf7",
   "metadata": {
    "papermill": {
     "duration": 0.020697,
     "end_time": "2025-04-26T12:27:21.921060",
     "exception": false,
     "start_time": "2025-04-26T12:27:21.900363",
     "status": "completed"
    },
    "tags": []
   },
   "source": [
    "# *Evaluation Metrics*"
   ]
  },
  {
   "cell_type": "code",
   "execution_count": 49,
   "id": "0f1db2b7",
   "metadata": {
    "execution": {
     "iopub.execute_input": "2025-04-26T12:27:21.962460Z",
     "iopub.status.busy": "2025-04-26T12:27:21.962159Z",
     "iopub.status.idle": "2025-04-26T12:27:21.993332Z",
     "shell.execute_reply": "2025-04-26T12:27:21.992292Z"
    },
    "papermill": {
     "duration": 0.053416,
     "end_time": "2025-04-26T12:27:21.994752",
     "exception": false,
     "start_time": "2025-04-26T12:27:21.941336",
     "status": "completed"
    },
    "tags": []
   },
   "outputs": [
    {
     "name": "stdout",
     "output_type": "stream",
     "text": [
      "Accuracy_Score = 100.0 %\n",
      "----------------------------------------------------\n",
      "confusion_matrix\n",
      " [[ 2  0]\n",
      " [ 0 45]]\n",
      "----------------------------------------------------\n",
      "classification_report\n",
      "               precision    recall  f1-score   support\n",
      "\n",
      "           0       1.00      1.00      1.00         2\n",
      "           1       1.00      1.00      1.00        45\n",
      "\n",
      "    accuracy                           1.00        47\n",
      "   macro avg       1.00      1.00      1.00        47\n",
      "weighted avg       1.00      1.00      1.00        47\n",
      "\n"
     ]
    }
   ],
   "source": [
    "y_pre=model.predict(X_test)\n",
    "print('Accuracy_Score =',round((accuracy_score(Y_test,y_pre)*100),2),'%')\n",
    "print('----------------------------------------------------')\n",
    "print('confusion_matrix\\n',confusion_matrix(Y_test,y_pre))\n",
    "print('----------------------------------------------------')\n",
    "print('classification_report\\n',classification_report(Y_test,y_pre))"
   ]
  },
  {
   "attachments": {
    "a5f721fa-51da-451f-8805-109d7c0620db.PNG": {
     "image/png": "[encoded data removed]"
    }
   },
   "cell_type": "markdown",
   "id": "8fbce574",
   "metadata": {
    "papermill": {
     "duration": 0.020107,
     "end_time": "2025-04-26T12:27:22.035400",
     "exception": false,
     "start_time": "2025-04-26T12:27:22.015293",
     "status": "completed"
    },
    "tags": []
   },
   "source": [
    "**Streamlit Application**\n",
    "\n",
    "[*Github Repository*🚀](https://github.com/Memo2004/Loan-Status-Prediction?tab=readme-ov-file)\n",
    "\n",
    "![Capture.PNG](attachment:a5f721fa-51da-451f-8805-109d7c0620db.PNG)"
   ]
  }
 ],
 "metadata": {
  "kaggle": {
   "accelerator": "none",
   "dataSources": [
    {
     "datasetId": 4390452,
     "sourceId": 7539897,
     "sourceType": "datasetVersion"
    }
   ],
   "dockerImageVersionId": 31012,
   "isGpuEnabled": false,
   "isInternetEnabled": true,
   "language": "python",
   "sourceType": "notebook"
  },
  "kernelspec": {
   "display_name": "base",
   "language": "python",
   "name": "python3"
  },
  "language_info": {
   "codemirror_mode": {
    "name": "ipython",
    "version": 3
   },
   "file_extension": ".py",
   "mimetype": "text/x-python",
   "name": "python",
   "nbconvert_exporter": "python",
   "pygments_lexer": "ipython3",
   "version": "3.12.7"
  },
  "papermill": {
   "default_parameters": {},
   "duration": 40.54611,
   "end_time": "2025-04-26T12:27:24.675281",
   "environment_variables": {},
   "exception": null,
   "input_path": "__notebook__.ipynb",
   "output_path": "__notebook__.ipynb",
   "parameters": {},
   "start_time": "2025-04-26T12:26:44.129171",
   "version": "2.6.0"
  }
 },
 "nbformat": 4,
 "nbformat_minor": 5
}
